{
  "nbformat": 4,
  "nbformat_minor": 0,
  "metadata": {
    "colab": {
      "provenance": [],
      "authorship_tag": "ABX9TyMWrQOSsnfy0ZCnlMUue4yh",
      "include_colab_link": true
    },
    "kernelspec": {
      "name": "python3",
      "display_name": "Python 3"
    },
    "language_info": {
      "name": "python"
    }
  },
  "cells": [
    {
      "cell_type": "markdown",
      "metadata": {
        "id": "view-in-github",
        "colab_type": "text"
      },
      "source": [
        "<a href=\"https://colab.research.google.com/github/Basmallaahmed/sentiment-analysis/blob/main/Untitled65.ipynb\" target=\"_parent\"><img src=\"https://colab.research.google.com/assets/colab-badge.svg\" alt=\"Open In Colab\"/></a>"
      ]
    },
    {
      "cell_type": "code",
      "source": [
        "!ngrok config add-authtoken 2x5UfleiiPTalfSWZEOxRumulrM_53PNeVc7wjbgbZ3EciXxZ"
      ],
      "metadata": {
        "colab": {
          "base_uri": "https://localhost:8080/"
        },
        "id": "YEBhQ4bV7iLn",
        "outputId": "867d5515-90f7-478f-b9ce-740dc856a793"
      },
      "execution_count": 17,
      "outputs": [
        {
          "output_type": "stream",
          "name": "stdout",
          "text": [
            "Authtoken saved to configuration file: /root/.config/ngrok/ngrok.yml\n"
          ]
        }
      ]
    },
    {
      "cell_type": "code",
      "source": [
        "!pip install streamlit pyngrok transformers --quiet"
      ],
      "metadata": {
        "id": "7P7AUFFu72I4"
      },
      "execution_count": 18,
      "outputs": []
    },
    {
      "cell_type": "code",
      "source": [
        "%%writefile app.py\n",
        "import streamlit as st\n",
        "from transformers import pipeline\n",
        "\n",
        "# Title of the application\n",
        "st.title(\"تحليل المشاعر للنصوص العربية\")\n",
        "\n",
        "# Text input field\n",
        "text = st.text_area(\"📝 أدخل النص العربي هنا:\")\n",
        "\n",
        "# Button for sentiment analysis\n",
        "if st.button(\"تحليل المشاعر\"):\n",
        "    # Load the sentiment analysis model\n",
        "    sentiment_analysis = pipeline(\"sentiment-analysis\", model=\"CAMeL-Lab/bert-base-arabic-camelbert-da-sentiment\")\n",
        "\n",
        "    if text:\n",
        "        # Perform sentiment analysis\n",
        "        result = sentiment_analysis(text)[0]\n",
        "        label = result['label']\n",
        "        score = result['score']\n",
        "\n",
        "        # Display results based on sentiment\n",
        "        if \"positive\" in label.lower():\n",
        "            st.success(f\"رأي إيجابي 😊\\nالدقة: {score:.2f}\")\n",
        "        elif \"negative\" in label.lower():\n",
        "            st.error(f\"رأي سلبي 😞\\nالدقة: {score:.2f}\")\n",
        "        else:\n",
        "            st.info(f\"رأي محايد 😐\\nالدقة: {score:.2f}\")\n",
        "    else:\n",
        "        st.warning(\"يرجى إدخال نص أولاً.\")\n",
        "\n"
      ],
      "metadata": {
        "colab": {
          "base_uri": "https://localhost:8080/"
        },
        "id": "PoKOlBwu31I_",
        "outputId": "191e0c23-8c35-4fd0-f2f2-668e13507fff"
      },
      "execution_count": 19,
      "outputs": [
        {
          "output_type": "stream",
          "name": "stdout",
          "text": [
            "Overwriting app.py\n"
          ]
        }
      ]
    },
    {
      "cell_type": "code",
      "source": [
        "!ngrok config add-authtoken 2x5UfleiiPTalfSWZEOxRumulrM_53PNeVc7wjbgbZ3EciXxZ"
      ],
      "metadata": {
        "colab": {
          "base_uri": "https://localhost:8080/"
        },
        "id": "8Vw8KLoU8FMX",
        "outputId": "9903d701-53eb-4bcb-a0c9-3057b20d34e4"
      },
      "execution_count": 20,
      "outputs": [
        {
          "output_type": "stream",
          "name": "stdout",
          "text": [
            "Authtoken saved to configuration file: /root/.config/ngrok/ngrok.yml\n"
          ]
        }
      ]
    },
    {
      "cell_type": "code",
      "source": [
        "from pyngrok import ngrok\n",
        "\n",
        "public_url = ngrok.connect(8501)\n",
        "print(\"url\", public_url)\n"
      ],
      "metadata": {
        "colab": {
          "base_uri": "https://localhost:8080/"
        },
        "id": "Q_-Py9bM36SX",
        "outputId": "8ff78ef0-5cc8-4728-b4f2-a38b26643cd5"
      },
      "execution_count": 21,
      "outputs": [
        {
          "output_type": "stream",
          "name": "stdout",
          "text": [
            "url NgrokTunnel: \"https://cded-35-203-153-80.ngrok-free.app\" -> \"http://localhost:8501\"\n"
          ]
        }
      ]
    },
    {
      "cell_type": "code",
      "source": [
        "!streamlit run app.py &>/dev/null &"
      ],
      "metadata": {
        "id": "W9Rfe33U8W5f"
      },
      "execution_count": 22,
      "outputs": []
    }
  ]
}